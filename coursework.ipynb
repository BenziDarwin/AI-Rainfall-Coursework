{
 "cells": [
  {
   "cell_type": "markdown",
   "metadata": {},
   "source": [
    "## Rainfall Dataset for Uganda\n",
    "\n",
    "This dataset contains dekadal rainfall indicators computed from Climate Hazards Group InfraRed Precipitation satellite imagery with insitu Station data (CHIRPS) version 2, aggregated by subnational administrative units.\n",
    "\n",
    "Included indicators are (for each dekad):\n",
    "\n",
    "    10 day rainfall [mm] (rfh)\n",
    "    rainfall 1-month rolling aggregation [mm] (r1h)\n",
    "    rainfall 3-month rolling aggregation [mm] (r3h)\n",
    "    rainfall long term average [mm] (rfh_avg)\n",
    "    rainfall 1-month rolling aggregation long term average [mm] (r1h_avg)\n",
    "    rainfall 3-month rolling aggregation long term average [mm] (r3h_avg)\n",
    "    rainfall anomaly [%] (rfq)\n",
    "    rainfall 1-month anomaly [%] (r1q)\n",
    "    rainfall 3-month anomaly [%] (r3q)\n",
    "\n",
    "The administrative units used for aggregation are based on WFP data and contain a Pcode reference attributed to each unit. The number of input pixels used to create the aggregates, is provided in the n_pixelscolumn."
   ]
  }
 ],
 "metadata": {
  "language_info": {
   "name": "python"
  }
 },
 "nbformat": 4,
 "nbformat_minor": 2
}
