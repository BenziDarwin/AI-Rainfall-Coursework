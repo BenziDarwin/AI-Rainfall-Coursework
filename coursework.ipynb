{
 "cells": [
  {
   "cell_type": "markdown",
   "metadata": {},
   "source": [
    "## Rainfall Dataset for Uganda\n",
    "\n",
    "This experiment will be used to predict 10-day rainfall and examine the relationships between the different features of the dataset.\n",
    "\n",
    "This dataset contains dekadal rainfall indicators computed from Climate Hazards Group InfraRed Precipitation satellite imagery with insitu Station data (CHIRPS) version 2, aggregated by subnational administrative units.\n",
    "\n",
    "Included indicators are (for each dekad):\n",
    "\n",
    "    10 day rainfall [mm] (rfh)\n",
    "    rainfall 1-month rolling aggregation [mm] (r1h)\n",
    "    rainfall 3-month rolling aggregation [mm] (r3h)\n",
    "    rainfall long term average [mm] (rfh_avg)\n",
    "    rainfall 1-month rolling aggregation long term average [mm] (r1h_avg)\n",
    "    rainfall 3-month rolling aggregation long term average [mm] (r3h_avg)\n",
    "    rainfall anomaly [%] (rfq)\n",
    "    rainfall 1-month anomaly [%] (r1q)\n",
    "    rainfall 3-month anomaly [%] (r3q)\n",
    "\n",
    "The administrative units used for aggregation are based on WFP data and contain a Pcode reference attributed to each unit. The number of input pixels used to create the aggregates, is provided in the n_pixelscolumn.\n",
    "\n",
    "[Reference](https://data.humdata.org/dataset/uga-rainfall-subnational) - Uganda Rainfall dataset (https://data.humdata.org)"
   ]
  },
  {
   "cell_type": "markdown",
   "metadata": {},
   "source": [
    "## Import necessary modules"
   ]
  },
  {
   "cell_type": "code",
   "execution_count": 1,
   "metadata": {},
   "outputs": [],
   "source": [
    "import pandas as pd\n",
    "import seaborn as sns\n",
    "import matplotlib.pyplot as plt\n",
    "from sklearn.linear_model import LinearRegression\n",
    "from sklearn.model_selection import KFold\n",
    "from sklearn.metrics import confusion_matrix, accuracy_score, precision_score, recall_score, f1_score\n",
    "import numpy as np\n",
    "from sklearn.preprocessing import StandardScaler"
   ]
  },
  {
   "cell_type": "markdown",
   "metadata": {},
   "source": [
    "## Import the data"
   ]
  },
  {
   "cell_type": "code",
   "execution_count": 2,
   "metadata": {},
   "outputs": [],
   "source": [
    "df = pd.read_csv(\"rainfall_dataset.csv\")"
   ]
  },
  {
   "cell_type": "markdown",
   "metadata": {},
   "source": [
    "## Data Preprocessing"
   ]
  },
  {
   "cell_type": "code",
   "execution_count": 3,
   "metadata": {},
   "outputs": [
    {
     "name": "stdout",
     "output_type": "stream",
     "text": [
      "No null columns with nulls greater than 50%\n"
     ]
    }
   ],
   "source": [
    "# Removing null columns\n",
    "null_percentage = df.isnull().mean() * 100\n",
    "null_cols = null_percentage[null_percentage > 50]\n",
    "# Check if there are null columns with nulls greater than 50%\n",
    "if not null_cols.empty:\n",
    "    # Drop null columns\n",
    "    df.drop(null_cols.index, axis=1, inplace=True)\n",
    "    print(\"Null columns removed:\", null_cols.index.tolist())\n",
    "else:\n",
    "    print(\"No null columns with nulls greater than 50%\")\n",
    "\n",
    "# Drop the null rows\n",
    "df = df.dropna()\n",
    "\n",
    "# Drop rows where column 'version' has 'prelim'\n",
    "df = df[df['version'] != 'prelim']\n",
    "\n",
    "# Drop columns \"adm2_id\", \"ADM2_PCODE\", and \"version\" directly without chaining\n",
    "df.drop([\"adm2_id\", \"ADM2_PCODE\", \"version\"], axis=1, inplace=True)"
   ]
  },
  {
   "cell_type": "markdown",
   "metadata": {},
   "source": [
    "## Data Preprocessing"
   ]
  },
  {
   "cell_type": "code",
   "execution_count": 4,
   "metadata": {},
   "outputs": [],
   "source": [
    "# Columns to be scaled\n",
    "selected_columns = df.columns[1:]  \n",
    "df_selected = df[selected_columns]\n",
    "\n",
    "scaler = StandardScaler()\n",
    "scaler.fit(df[selected_columns])\n",
    "scaled_columns = scaler.transform(df[selected_columns])\n",
    "df[selected_columns] = scaled_columns"
   ]
  }
 ],
 "metadata": {
  "kernelspec": {
   "display_name": "Python 3",
   "language": "python",
   "name": "python3"
  },
  "language_info": {
   "codemirror_mode": {
    "name": "ipython",
    "version": 3
   },
   "file_extension": ".py",
   "mimetype": "text/x-python",
   "name": "python",
   "nbconvert_exporter": "python",
   "pygments_lexer": "ipython3",
   "version": "3.11.7"
  }
 },
 "nbformat": 4,
 "nbformat_minor": 2
}
